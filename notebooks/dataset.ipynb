{
 "cells": [
  {
   "cell_type": "code",
   "execution_count": 1,
   "id": "d3094edc-0a4c-4b83-915e-fae40bb03310",
   "metadata": {},
   "outputs": [
    {
     "data": {
      "text/plain": [
       "True"
      ]
     },
     "execution_count": 1,
     "metadata": {},
     "output_type": "execute_result"
    }
   ],
   "source": [
    "%matplotlib inline\n",
    "import pandas as pd\n",
    "import matplotlib.pyplot as plt\n",
    "import seaborn as sns\n",
    "import requests\n",
    "import time\n",
    "import warnings; warnings.simplefilter('ignore')\n",
    "import os\n",
    "import re\n",
    "from collections import Counter\n",
    "from dotenv import load_dotenv\n",
    "load_dotenv()"
   ]
  },
  {
   "cell_type": "code",
   "execution_count": 2,
   "id": "c5cdb3f0-8c0d-4ff6-af56-f449dbdc87c0",
   "metadata": {},
   "outputs": [],
   "source": [
    "# Reading Dataset\n",
    "\n",
    "md = pd.read_csv(\"TMDB_all_movies.csv\")"
   ]
  },
  {
   "cell_type": "markdown",
   "id": "1726d697-da1b-42ae-ad29-90f46cb5a226",
   "metadata": {},
   "source": [
    "## Data Preprocessing"
   ]
  },
  {
   "cell_type": "code",
   "execution_count": 4,
   "id": "10f31b4e-1bdd-496c-a4d3-2b3c2dbf0ce8",
   "metadata": {},
   "outputs": [],
   "source": [
    "# Filtering out movies that have already released\n",
    "\n",
    "md = md[md['status'] == 'Released']"
   ]
  },
  {
   "cell_type": "code",
   "execution_count": 5,
   "id": "39f8aa1e-5df3-4c5f-b901-bcce046e10ea",
   "metadata": {},
   "outputs": [],
   "source": [
    "# removing columns that are irrelevant\n",
    "\n",
    "cols_to_drop = [\n",
    "    'status', 'revenue', 'runtime', 'budget', 'tagline', 'production_companies', 'production_countries', 'spoken_languages'\n",
    "]\n",
    "md = md.drop(columns=cols_to_drop)"
   ]
  },
  {
   "cell_type": "code",
   "execution_count": 6,
   "id": "66376405-05e0-4a1b-ad4e-1dfac43ef3d2",
   "metadata": {},
   "outputs": [
    {
     "data": {
      "text/plain": [
       "['id',\n",
       " 'title',\n",
       " 'vote_average',\n",
       " 'vote_count',\n",
       " 'release_date',\n",
       " 'imdb_id',\n",
       " 'original_language',\n",
       " 'original_title',\n",
       " 'overview',\n",
       " 'popularity',\n",
       " 'genres',\n",
       " 'cast',\n",
       " 'director',\n",
       " 'director_of_photography',\n",
       " 'writers',\n",
       " 'producers',\n",
       " 'music_composer',\n",
       " 'imdb_rating',\n",
       " 'imdb_votes',\n",
       " 'poster_path']"
      ]
     },
     "execution_count": 6,
     "metadata": {},
     "output_type": "execute_result"
    }
   ],
   "source": [
    "md.columns.tolist()"
   ]
  },
  {
   "cell_type": "code",
   "execution_count": 7,
   "id": "9f0d144f-8dc7-43a0-ae5d-01b81ae4c44d",
   "metadata": {},
   "outputs": [],
   "source": [
    "# Dropping movies that don't have an IMDB rating\n",
    "\n",
    "md = md[(md['imdb_id'].notna())]"
   ]
  },
  {
   "cell_type": "code",
   "execution_count": 8,
   "id": "d3802265-79e9-4015-a514-d732d29e82f4",
   "metadata": {},
   "outputs": [],
   "source": [
    "# Filtering out 'bad' and 'obscure' movies according to imdb\n",
    "\n",
    "md = md[\n",
    "    ((md['original_language'] == 'en') & (md['imdb_votes'] >= 5000)) |\n",
    "    ((md['original_language'] != 'en') & (md['imdb_votes'] >= 2000))\n",
    "]\n",
    "md = md[md['imdb_rating'] >= 6]"
   ]
  },
  {
   "cell_type": "code",
   "execution_count": 9,
   "id": "c4ee9a54-04c5-4fb5-bcc9-8534dd6a329a",
   "metadata": {},
   "outputs": [],
   "source": [
    "# Dropping the 'popularity' column since 'imdb_votes' indicates popularity anyways\n",
    "\n",
    "md = md.drop(columns='popularity')"
   ]
  },
  {
   "cell_type": "code",
   "execution_count": 10,
   "id": "cafd82c8-30f3-405b-b689-0841dd92ad32",
   "metadata": {},
   "outputs": [],
   "source": [
    "# Dropping the 'vote_average' and 'vote_count' columns as TMDB ratings are not required as we are going to be using IMDB ratings instead\n",
    "\n",
    "md = md.drop(columns=['vote_average','vote_count'])"
   ]
  },
  {
   "cell_type": "code",
   "execution_count": 11,
   "id": "24e9a4cd-f454-4452-a45a-ca41d19a16ad",
   "metadata": {},
   "outputs": [],
   "source": [
    "# Renaming columns\n",
    "\n",
    "md.columns = ['tmdb_id', 'title', 'release_date', 'imdb_id', 'original_language', 'original_title', 'overview', 'genres', 'cast',\n",
    "              'directed_by', 'cinematography', 'written_by', 'produced_by', 'music_by', 'imdb_rating', 'imdb_votes', 'poster_path']"
   ]
  },
  {
   "cell_type": "code",
   "execution_count": 12,
   "id": "1e664caa-01b6-42e2-8e40-8cab4ed2f6e6",
   "metadata": {},
   "outputs": [],
   "source": [
    "# Re-ordering columns\n",
    "\n",
    "md = md[['imdb_id', 'tmdb_id', 'title', 'original_title', 'overview', 'imdb_rating', 'imdb_votes', 'genres', 'cast', 'directed_by',\n",
    "         'written_by', 'produced_by', 'cinematography', 'music_by', 'release_date', 'original_language', 'poster_path']]"
   ]
  },
  {
   "cell_type": "code",
   "execution_count": 13,
   "id": "5ea5342a-92f8-44a7-a97d-732cf7221c91",
   "metadata": {},
   "outputs": [
    {
     "data": {
      "text/plain": [
       "imdb_id              19115\n",
       "tmdb_id              19115\n",
       "title                19115\n",
       "original_title       19115\n",
       "overview             18976\n",
       "imdb_rating          19115\n",
       "imdb_votes           19115\n",
       "genres               18966\n",
       "cast                 18923\n",
       "directed_by          18958\n",
       "written_by           18489\n",
       "produced_by          17317\n",
       "cinematography       16347\n",
       "music_by             13775\n",
       "release_date         19028\n",
       "original_language    19115\n",
       "poster_path          18859\n",
       "dtype: int64"
      ]
     },
     "execution_count": 13,
     "metadata": {},
     "output_type": "execute_result"
    }
   ],
   "source": [
    "md.count()"
   ]
  },
  {
   "cell_type": "markdown",
   "id": "8639549e-094b-437c-97e9-c54d0ecbc740",
   "metadata": {},
   "source": [
    "### Missing Values"
   ]
  },
  {
   "cell_type": "code",
   "execution_count": 15,
   "id": "fca5f09f-e7f9-47af-aad7-36743447b7b4",
   "metadata": {},
   "outputs": [],
   "source": [
    "# Removing rows where 'overview' is missing\n",
    "\n",
    "#md[md['overview'].isna()].sort_values(by='imdb_votes', ascending=False).head(10)\n",
    "md = md[md['overview'].notna()]"
   ]
  },
  {
   "cell_type": "code",
   "execution_count": 16,
   "id": "a6308b66-e247-4554-ba07-da9d832e4cca",
   "metadata": {},
   "outputs": [],
   "source": [
    "# Removing rows with missing 'genres'\n",
    "\n",
    "md = md[md['genres'].notna()]"
   ]
  },
  {
   "cell_type": "code",
   "execution_count": 17,
   "id": "fe11b651-3225-4978-96d1-685c70c93c77",
   "metadata": {},
   "outputs": [],
   "source": [
    "# Removing rows with missing 'release_date'\n",
    "\n",
    "md = md[md['release_date'].notna()]"
   ]
  },
  {
   "cell_type": "code",
   "execution_count": 18,
   "id": "a191c351-ddad-470c-8a72-24800b280096",
   "metadata": {},
   "outputs": [
    {
     "data": {
      "text/plain": [
       "imdb_id              18843\n",
       "tmdb_id              18843\n",
       "title                18843\n",
       "original_title       18843\n",
       "overview             18843\n",
       "imdb_rating          18843\n",
       "imdb_votes           18843\n",
       "genres               18843\n",
       "cast                 18742\n",
       "directed_by          18806\n",
       "written_by           18376\n",
       "produced_by          17267\n",
       "cinematography       16325\n",
       "music_by             13760\n",
       "release_date         18843\n",
       "original_language    18843\n",
       "poster_path          18686\n",
       "dtype: int64"
      ]
     },
     "execution_count": 18,
     "metadata": {},
     "output_type": "execute_result"
    }
   ],
   "source": [
    "md.count()"
   ]
  },
  {
   "cell_type": "code",
   "execution_count": 19,
   "id": "fc8d5243-3a26-4ebc-8096-84fd0113bfa8",
   "metadata": {},
   "outputs": [
    {
     "data": {
      "text/plain": [
       "imdb_id              535\n",
       "tmdb_id              535\n",
       "title                535\n",
       "original_title       535\n",
       "overview             535\n",
       "imdb_rating          535\n",
       "imdb_votes           535\n",
       "genres               535\n",
       "cast                 434\n",
       "directed_by          498\n",
       "written_by            68\n",
       "produced_by          331\n",
       "cinematography       206\n",
       "music_by             146\n",
       "release_date         535\n",
       "original_language    535\n",
       "poster_path          497\n",
       "dtype: int64"
      ]
     },
     "execution_count": 19,
     "metadata": {},
     "output_type": "execute_result"
    }
   ],
   "source": [
    "# Checking missing cast and crew data and preparing to fetch the missing data from the OMDB API\n",
    "\n",
    "#md[md['cast'].isna()].count()\n",
    "#md[md['directed_by'].isna()].sort_values(by='imdb_votes', ascending=False).head(10)\n",
    "#md[md['cinematography'].isna()].count()\n",
    "#md[md['written_by'].isna()].sort_values(by='imdb_votes', ascending=False).head(10)\n",
    "#md[md['produced_by'].isna()].count()\n",
    "#md[md['music_by'].isna()].count()\n",
    "\n",
    "missing_data = md[(md['cast'].isna()) | (md['directed_by'].isna()) | (md['written_by'].isna())]\n",
    "\n",
    "# making a copy for comparision later\n",
    "to_compare = missing_data.copy()\n",
    "\n",
    "missing_data.count()"
   ]
  },
  {
   "cell_type": "code",
   "execution_count": 48,
   "id": "ef470a7a-c757-4a8c-8de8-a780c314145f",
   "metadata": {},
   "outputs": [
    {
     "data": {
      "text/plain": [
       "imdb_id              482\n",
       "tmdb_id              482\n",
       "title                482\n",
       "original_title       482\n",
       "overview             482\n",
       "imdb_rating          482\n",
       "imdb_votes           482\n",
       "genres               482\n",
       "cast                 482\n",
       "directed_by          482\n",
       "written_by           482\n",
       "produced_by          318\n",
       "cinematography       203\n",
       "music_by             144\n",
       "release_date         482\n",
       "original_language    482\n",
       "poster_path          465\n",
       "dtype: int64"
      ]
     },
     "execution_count": 48,
     "metadata": {},
     "output_type": "execute_result"
    }
   ],
   "source": [
    "# Using the OMDB API to fetch missing values\n",
    "\n",
    "OMDB_API_KEY = os.getenv(\"OMDB_API_KEY\")\n",
    "\n",
    "def fetch_omdb_data(imdb_id):\n",
    "    \"\"\"Fetch data from OMDB API (keeping 'N/A' as strings).\"\"\"\n",
    "    url = f\"http://www.omdbapi.com/?i={imdb_id}&apikey={OMDB_API_KEY}\"\n",
    "    try:\n",
    "        response = requests.get(url, timeout=5)\n",
    "        return response.json() if response.status_code == 200 else None\n",
    "    except requests.exceptions.RequestException:\n",
    "        return None\n",
    "\n",
    "# Track rows to keep (movies only) and update missing data\n",
    "valid_rows = []\n",
    "for idx, row in missing_data.iterrows():\n",
    "    omdb_data = fetch_omdb_data(row['imdb_id'])\n",
    "    time.sleep(0.1)  # Avoid rate limiting\n",
    "    \n",
    "    # Skip if not a movie or API failed\n",
    "    if not omdb_data or omdb_data.get('Type') != 'movie':\n",
    "        continue\n",
    "    \n",
    "    # Update missing values (keeping 'N/A' if OMDB returns it)\n",
    "    if pd.isna(row['cast']) and 'Actors' in omdb_data:\n",
    "        missing_data.at[idx, 'cast'] = omdb_data['Actors']\n",
    "    if pd.isna(row['directed_by']) and 'Director' in omdb_data:\n",
    "        missing_data.at[idx, 'directed_by'] = omdb_data['Director']\n",
    "    if pd.isna(row['written_by']) and 'Writer' in omdb_data:\n",
    "        missing_data.at[idx, 'written_by'] = omdb_data['Writer']\n",
    "    \n",
    "    valid_rows.append(idx)\n",
    "\n",
    "# Optional: Filter to keep only valid movies\n",
    "missing_data = missing_data.loc[valid_rows]\n",
    "\n",
    "missing_data.count()"
   ]
  },
  {
   "cell_type": "code",
   "execution_count": 50,
   "id": "07f0b095-6cf9-4a3f-855c-204f7f9ea88a",
   "metadata": {},
   "outputs": [],
   "source": [
    "# Updating md with the new data fetched via the OMDB API\n",
    "\n",
    "md.update(missing_data)"
   ]
  },
  {
   "cell_type": "code",
   "execution_count": 54,
   "id": "3b85f932-a56f-4802-a5b7-b63b23e549b4",
   "metadata": {},
   "outputs": [
    {
     "data": {
      "text/plain": [
       "(18790, 17)"
      ]
     },
     "execution_count": 54,
     "metadata": {},
     "output_type": "execute_result"
    }
   ],
   "source": [
    "# Dropping the rows that contain empty values in the cast, director or writer columns\n",
    "\n",
    "md = md.dropna(subset=['cast', 'directed_by', 'written_by'],how='any')\n",
    "\n",
    "md.shape"
   ]
  },
  {
   "cell_type": "code",
   "execution_count": 110,
   "id": "14e1faaf-1d4a-4e29-a9c4-71a4d4eac4e5",
   "metadata": {},
   "outputs": [],
   "source": [
    "#md[(md['cast'] == 'N/A') | (md['directed_by'] == 'N/A') | (md['written_by'] == 'N/A')]\n",
    "\n",
    "# Replacing 'N/A' values returned by the OMDB API with NaNs\n",
    "\n",
    "md.loc[:, ['cast', 'directed_by', 'written_by']] = md[['cast', 'directed_by', 'written_by']].replace('N/A', pd.NA)"
   ]
  },
  {
   "cell_type": "code",
   "execution_count": 114,
   "id": "5ebd1319-148f-4854-b079-a13aca7a4f45",
   "metadata": {},
   "outputs": [],
   "source": [
    "# Export md to CSV for recommender system\n",
    "\n",
    "md.to_csv('../backend/data/good_cinema.csv', index=False)  # Excludes row numbers"
   ]
  },
  {
   "cell_type": "code",
   "execution_count": null,
   "id": "69a07409-ba93-4f78-9901-73c058803cb7",
   "metadata": {},
   "outputs": [],
   "source": []
  }
 ],
 "metadata": {
  "kernelspec": {
   "display_name": "Python [conda env:base] *",
   "language": "python",
   "name": "conda-base-py"
  },
  "language_info": {
   "codemirror_mode": {
    "name": "ipython",
    "version": 3
   },
   "file_extension": ".py",
   "mimetype": "text/x-python",
   "name": "python",
   "nbconvert_exporter": "python",
   "pygments_lexer": "ipython3",
   "version": "3.12.7"
  }
 },
 "nbformat": 4,
 "nbformat_minor": 5
}
