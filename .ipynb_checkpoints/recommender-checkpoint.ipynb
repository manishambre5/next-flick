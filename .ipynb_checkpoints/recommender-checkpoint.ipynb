{
 "cells": [
  {
   "cell_type": "code",
   "execution_count": 1,
   "id": "51f2cce6-b41f-492d-8b54-328d97a372b5",
   "metadata": {},
   "outputs": [],
   "source": [
    "# Importing relevant libraries\n",
    "\n",
    "%matplotlib inline\n",
    "import pandas as pd\n",
    "import numpy as np\n",
    "import matplotlib.pyplot as plt\n",
    "import seaborn as sns\n",
    "from scipy import stats\n",
    "from ast import literal_eval\n",
    "from sklearn.feature_extraction.text import TfidfVectorizer, CountVectorizer\n",
    "from sklearn.metrics.pairwise import linear_kernel, cosine_similarity\n",
    "from nltk.stem.snowball import SnowballStemmer\n",
    "from nltk.stem.wordnet import WordNetLemmatizer\n",
    "from nltk.corpus import wordnet\n",
    "import requests\n",
    "import time\n",
    "#from surprise import Reader, Dataset, SVD, evaluate\n",
    "import warnings; warnings.simplefilter('ignore')\n",
    "import os\n",
    "from dotenv import load_dotenv\n",
    "load_dotenv()"
   ]
  },
  {
   "cell_type": "code",
   "execution_count": 2,
   "id": "daa1cdce-fd6d-4b07-b8c1-76d590911af8",
   "metadata": {},
   "outputs": [],
   "source": [
    "# Reading Dataset\n",
    "\n",
    "md = pd.read_csv(\"TMDB_all_movies.csv\")"
   ]
  },
  {
   "cell_type": "code",
   "execution_count": 3,
   "id": "2ffed154-6c7e-4530-b412-614e19847925",
   "metadata": {},
   "outputs": [
    {
     "data": {
      "text/plain": [
       "id                         1078995\n",
       "title                      1078982\n",
       "vote_average               1078993\n",
       "vote_count                 1078993\n",
       "status                     1078993\n",
       "release_date                955771\n",
       "revenue                    1078993\n",
       "runtime                    1078993\n",
       "budget                     1078993\n",
       "imdb_id                     612768\n",
       "original_language          1078993\n",
       "original_title             1078983\n",
       "overview                    888240\n",
       "popularity                 1078993\n",
       "tagline                     163150\n",
       "genres                      770057\n",
       "production_companies        501789\n",
       "production_countries        652361\n",
       "spoken_languages            666815\n",
       "cast                        723344\n",
       "director                    886328\n",
       "director_of_photography     265001\n",
       "writers                     527621\n",
       "producers                   348684\n",
       "music_composer              108839\n",
       "imdb_rating                 444042\n",
       "imdb_votes                  444042\n",
       "poster_path                 777162\n",
       "dtype: int64"
      ]
     },
     "execution_count": 3,
     "metadata": {},
     "output_type": "execute_result"
    }
   ],
   "source": [
    "md.count()"
   ]
  },
  {
   "cell_type": "code",
   "execution_count": 4,
   "id": "1b89559d-d0e0-409c-9718-ec0cd05d11ca",
   "metadata": {},
   "outputs": [],
   "source": [
    "# Filtering out movies that have already released\n",
    "\n",
    "md = md[md['status'] == 'Released']"
   ]
  },
  {
   "cell_type": "code",
   "execution_count": 5,
   "id": "6ae04035-219b-4e1d-98c1-aa6e18c791b5",
   "metadata": {},
   "outputs": [],
   "source": [
    "# removing columns that are irrelevant\n",
    "\n",
    "cols_to_drop = [\n",
    "    'status', 'revenue', 'runtime', 'budget', 'tagline', 'production_companies', 'production_countries', 'spoken_languages'\n",
    "]\n",
    "md = md.drop(columns=cols_to_drop)\n"
   ]
  },
  {
   "cell_type": "code",
   "execution_count": 6,
   "id": "2586f159-82de-4d5c-abf4-d68bce52da83",
   "metadata": {},
   "outputs": [],
   "source": [
    "# Dropping movies that don't have an IMDB rating\n",
    "\n",
    "md = md[(md['imdb_rating'].notna())]"
   ]
  },
  {
   "cell_type": "code",
   "execution_count": 7,
   "id": "ff11ca31-07aa-4b9a-8f5a-3f82fad8477d",
   "metadata": {},
   "outputs": [],
   "source": [
    "# Filtering out 'bad' and 'obscure' movies according to imdb\n",
    "\n",
    "md = md[(md['imdb_rating'] >= 6) & (md['imdb_votes'] >= 1000)]"
   ]
  },
  {
   "cell_type": "code",
   "execution_count": 8,
   "id": "137d3fb2-ef32-415c-8d88-f85b8e4fb1cd",
   "metadata": {},
   "outputs": [
    {
     "data": {
      "text/plain": [
       "id                         35326\n",
       "title                      35326\n",
       "vote_average               35326\n",
       "vote_count                 35326\n",
       "release_date               35123\n",
       "imdb_id                    35326\n",
       "original_language          35326\n",
       "original_title             35326\n",
       "overview                   35075\n",
       "popularity                 35326\n",
       "genres                     34926\n",
       "cast                       34617\n",
       "director                   34905\n",
       "director_of_photography    27270\n",
       "writers                    32880\n",
       "producers                  29906\n",
       "music_composer             21608\n",
       "imdb_rating                35326\n",
       "imdb_votes                 35326\n",
       "poster_path                34639\n",
       "dtype: int64"
      ]
     },
     "execution_count": 8,
     "metadata": {},
     "output_type": "execute_result"
    }
   ],
   "source": [
    "md.count()"
   ]
  },
  {
   "cell_type": "code",
   "execution_count": 9,
   "id": "3ef96ca7-23de-4526-a28f-03e1ff5a2aa1",
   "metadata": {},
   "outputs": [],
   "source": [
    "# Dealing with missing values"
   ]
  },
  {
   "cell_type": "code",
   "execution_count": 10,
   "id": "18229f73-6d99-4ca8-b8f3-b0634208ba68",
   "metadata": {},
   "outputs": [],
   "source": [
    "# Removing rows where 'overview' is missing\n",
    "\n",
    "#md[md['overview'].isna()].sort_values(by='imdb_votes', ascending=False).head(10)\n",
    "md = md[md['overview'].notna()]"
   ]
  },
  {
   "cell_type": "code",
   "execution_count": 11,
   "id": "bf38b589-52e7-4c7b-bd5b-f0dbb953b943",
   "metadata": {},
   "outputs": [],
   "source": [
    "# Removing rows with missing 'genres'\n",
    "\n",
    "md = md[md['genres'].notna()]"
   ]
  },
  {
   "cell_type": "code",
   "execution_count": 12,
   "id": "53f9af4b-0b35-4633-9453-a1b31236f920",
   "metadata": {},
   "outputs": [],
   "source": [
    "# Removing rows with missing 'release_date'\n",
    "\n",
    "#md[md['release_date'].isna()].sort_values(by='imdb_votes', ascending=False)\n",
    "md = md[md['release_date'].notna()]"
   ]
  },
  {
   "cell_type": "code",
   "execution_count": 13,
   "id": "36763192-3f55-4f93-bed5-857af61649d7",
   "metadata": {},
   "outputs": [],
   "source": [
    "# Dropping the 'popularity' column since 'imdb_votes' indicates popularity anyways\n",
    "\n",
    "md = md.drop(columns='popularity')"
   ]
  },
  {
   "cell_type": "code",
   "execution_count": 14,
   "id": "29d0eb24-82f2-46bf-8194-c8147e0d9d2f",
   "metadata": {},
   "outputs": [],
   "source": [
    "# Dropping the 'vote_average' and 'vote_count' columns as TMDB ratings are not required as we are going to be using IMDB ratings instead\n",
    "\n",
    "md = md.drop(columns=['vote_average','vote_count'])"
   ]
  },
  {
   "cell_type": "code",
   "execution_count": 15,
   "id": "6edfc5ab-3581-4c7b-bcc6-436c5730db46",
   "metadata": {},
   "outputs": [],
   "source": [
    "# Renaming columns\n",
    "\n",
    "md.columns = ['tmdb_id', 'title', 'release_date', 'imdb_id', 'original_language', 'original_title', 'overview', 'genres', 'cast',\n",
    "              'directed_by', 'cinematography', 'written_by', 'produced_by', 'music_by', 'imdb_rating', 'imdb_votes', 'poster_path']"
   ]
  },
  {
   "cell_type": "code",
   "execution_count": 16,
   "id": "117d2ba8-9e4e-43e3-aa39-6c153c9a6578",
   "metadata": {},
   "outputs": [],
   "source": [
    "# Re-ordering columns\n",
    "\n",
    "md = md[['imdb_id', 'tmdb_id', 'title', 'original_title', 'overview', 'imdb_rating', 'imdb_votes', 'genres', 'cast', 'directed_by',\n",
    "         'cinematography', 'written_by', 'produced_by', 'music_by', 'release_date', 'original_language', 'poster_path']]"
   ]
  },
  {
   "cell_type": "code",
   "execution_count": 17,
   "id": "c544181f-a073-47fe-b525-0b86412684ef",
   "metadata": {},
   "outputs": [],
   "source": [
    "# Removing rows where both cast and crew info is missing\n",
    "\n",
    "md = md[md[['cast', 'directed_by', 'cinematography', 'written_by', 'produced_by', 'music_by']].notna().any(axis=1)]"
   ]
  },
  {
   "cell_type": "code",
   "execution_count": 18,
   "id": "45654cf2-a072-45d7-b47d-84250f6d2b5a",
   "metadata": {},
   "outputs": [
    {
     "data": {
      "text/plain": [
       "imdb_id              2220\n",
       "tmdb_id              2220\n",
       "title                2220\n",
       "original_title       2220\n",
       "overview             2220\n",
       "imdb_rating          2220\n",
       "imdb_votes           2220\n",
       "genres               2220\n",
       "cast                 1806\n",
       "directed_by          2133\n",
       "cinematography        745\n",
       "written_by            221\n",
       "produced_by          1325\n",
       "music_by              538\n",
       "release_date         2220\n",
       "original_language    2220\n",
       "poster_path          2108\n",
       "dtype: int64"
      ]
     },
     "execution_count": 18,
     "metadata": {},
     "output_type": "execute_result"
    }
   ],
   "source": [
    "# Fetching missing cast and crew details using the OMDB API\n",
    "\n",
    "#md[md['cast'].isna()].count()\n",
    "#md[md['directed_by'].isna()].sort_values(by='imdb_votes', ascending=False).head(10)\n",
    "#md[md['cinematography'].isna()].count()\n",
    "#md[md['written_by'].isna()].sort_values(by='imdb_votes', ascending=False).head(10)\n",
    "#md[md['produced_by'].isna()].count()\n",
    "#md[md['music_by'].isna()].count()\n",
    "\n",
    "missing_data = md[(md['cast'].isna()) | (md['directed_by'].isna()) | (md['written_by'].isna())]\n",
    "\n",
    "# making a copy for comparision later\n",
    "to_compare = missing_data.copy()\n",
    "\n",
    "missing_data.count()"
   ]
  },
  {
   "cell_type": "code",
   "execution_count": 19,
   "id": "f4945c9b-f35d-4d1c-9086-fe908ce126b2",
   "metadata": {},
   "outputs": [
    {
     "data": {
      "text/plain": [
       "imdb_id              974\n",
       "tmdb_id              974\n",
       "title                974\n",
       "original_title       974\n",
       "overview             974\n",
       "imdb_rating          974\n",
       "imdb_votes           974\n",
       "genres               974\n",
       "cast                 974\n",
       "directed_by          974\n",
       "cinematography       292\n",
       "written_by           974\n",
       "produced_by          586\n",
       "music_by             218\n",
       "release_date         974\n",
       "original_language    974\n",
       "poster_path          953\n",
       "dtype: int64"
      ]
     },
     "execution_count": 19,
     "metadata": {},
     "output_type": "execute_result"
    }
   ],
   "source": [
    "OMDB_API_KEY = os.getenv(\"OMDB_API_KEY\")\n",
    "\n",
    "def fetch_omdb_data(imdb_id):\n",
    "    \"\"\"Fetching data from OMDB API for a movie via its imdb_id\"\"\"\n",
    "    url = f\"http://www.omdbapi.com/?i={imdb_id}&apikey={OMDB_API_KEY}\"\n",
    "    response = requests.get(url)\n",
    "    if response.status_code == 200:\n",
    "        return response.json()\n",
    "    return None\n",
    "\n",
    "# Dropping rows where OMDB API response key 'Type' is NOT 'movie'\n",
    "rows_to_drop = []\n",
    "for idx, row in missing_data.iterrows():\n",
    "    omdb_data = fetch_omdb_data(row['imdb_id'])\n",
    "    if not omdb_data or omdb_data.get('Type') != 'movie':\n",
    "        rows_to_drop.append(idx)\n",
    "\n",
    "# Dropping non-movie rows in-place\n",
    "missing_data.drop(rows_to_drop, inplace=True)\n",
    "\n",
    "# Fetching missing data for remaining rows (confirmed movies)\n",
    "for idx, row in missing_data.iterrows():\n",
    "    omdb_data = fetch_omdb_data(row['imdb_id'])\n",
    "    if omdb_data:  # Already confirmed type='movie' in Step 1\n",
    "        if pd.isna(row['cast']) and 'Actors' in omdb_data:\n",
    "            missing_data.at[idx, 'cast'] = omdb_data['Actors']\n",
    "        if pd.isna(row['directed_by']) and 'Director' in omdb_data:\n",
    "            missing_data.at[idx, 'directed_by'] = omdb_data['Director']\n",
    "        if pd.isna(row['written_by']) and 'Writer' in omdb_data:\n",
    "            missing_data.at[idx, 'written_by'] = omdb_data['Writer']\n",
    "\n",
    "missing_data.count()"
   ]
  },
  {
   "cell_type": "code",
   "execution_count": 52,
   "id": "be32760e-d432-4e22-9c96-c376c41a9970",
   "metadata": {},
   "outputs": [],
   "source": [
    "# Updating md with the new data fetched via the OMDB API\n",
    "\n",
    "md.update(missing_data)"
   ]
  },
  {
   "cell_type": "code",
   "execution_count": 56,
   "id": "b0cc01cc-926c-4225-bb48-3d9919320fb6",
   "metadata": {},
   "outputs": [
    {
     "data": {
      "text/plain": [
       "(33395, 17)"
      ]
     },
     "execution_count": 56,
     "metadata": {},
     "output_type": "execute_result"
    }
   ],
   "source": [
    "# Dropping the rows that contain empty values in the cast, director or writer columns\n",
    "\n",
    "md = md.dropna(subset=['cast', 'directed_by', 'written_by'],how='any')\n",
    "\n",
    "md.shape"
   ]
  },
  {
   "cell_type": "code",
   "execution_count": 58,
   "id": "adcf8bf7-d71c-4df2-9863-04d324021269",
   "metadata": {},
   "outputs": [
    {
     "data": {
      "text/plain": [
       "imdb_id              33395\n",
       "tmdb_id              33395\n",
       "title                33395\n",
       "original_title       33395\n",
       "overview             33395\n",
       "imdb_rating          33395\n",
       "imdb_votes           33395\n",
       "genres               33395\n",
       "cast                 33395\n",
       "directed_by          33395\n",
       "cinematography       26753\n",
       "written_by           33395\n",
       "produced_by          29048\n",
       "music_by             21250\n",
       "release_date         33395\n",
       "original_language    33395\n",
       "poster_path          33030\n",
       "dtype: int64"
      ]
     },
     "execution_count": 58,
     "metadata": {},
     "output_type": "execute_result"
    }
   ],
   "source": [
    "md.count()"
   ]
  },
  {
   "cell_type": "code",
   "execution_count": 62,
   "id": "e8c81616-47d5-423a-bac8-5fbce75b8e96",
   "metadata": {},
   "outputs": [],
   "source": [
    "# Building the content-based recommendation system"
   ]
  },
  {
   "cell_type": "code",
   "execution_count": 64,
   "id": "2f6a0f1d-eb11-4f80-8fb2-c925af0ef503",
   "metadata": {},
   "outputs": [],
   "source": [
    "# Implementing content based filtering based on Overviews, Cast, Crew, Keywords, and Genre"
   ]
  },
  {
   "cell_type": "code",
   "execution_count": null,
   "id": "7a6abc73-bb89-41bd-a5a7-07bcba93886d",
   "metadata": {},
   "outputs": [],
   "source": []
  }
 ],
 "metadata": {
  "kernelspec": {
   "display_name": "Python [conda env:base] *",
   "language": "python",
   "name": "conda-base-py"
  },
  "language_info": {
   "codemirror_mode": {
    "name": "ipython",
    "version": 3
   },
   "file_extension": ".py",
   "mimetype": "text/x-python",
   "name": "python",
   "nbconvert_exporter": "python",
   "pygments_lexer": "ipython3",
   "version": "3.12.7"
  }
 },
 "nbformat": 4,
 "nbformat_minor": 5
}
